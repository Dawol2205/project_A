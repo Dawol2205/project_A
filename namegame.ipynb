{
 "cells": [
  {
   "cell_type": "code",
   "execution_count": 33,
   "id": "a2289b9f-a9bc-43ae-b462-4a278d4608e0",
   "metadata": {},
   "outputs": [
    {
     "name": "stdin",
     "output_type": "stream",
     "text": [
      "몇 명의 사람 정보를 입력하시겠습니까?  1\n",
      "이름을 입력하세요:  다월이\n",
      "나이를 입력하세요:  2\n",
      "성별을 입력하세요 (남성/여성):  남성\n"
     ]
    },
    {
     "name": "stdout",
     "output_type": "stream",
     "text": [
      "\n",
      "입력한 사람들의 정보:\n",
      "\n",
      "--- 정보 ---\n",
      "이름: 다월이\n",
      "나이: 2\n",
      "성별: 남성\n"
     ]
    }
   ],
   "source": [
    "class Person:\n",
    "    def __init__(self, name, age, gender):\n",
    "        self.name = name      # 이름\n",
    "        self.age = age        # 나이\n",
    "        self.gender = gender  # 성별\n",
    "\n",
    "    def display_info(self):\n",
    "        \"\"\"개인 정보를 출력하는 함수\"\"\"\n",
    "        print(f\"이름: {self.name}\")\n",
    "        print(f\"나이: {self.age}\")\n",
    "        print(f\"성별: {self.gender}\")\n",
    "\n",
    "# 사용자로부터 정보 입력받기\n",
    "def create_person():\n",
    "    name = input(\"이름을 입력하세요: \")\n",
    "    age = int(input(\"나이를 입력하세요: \"))\n",
    "    gender = input(\"성별을 입력하세요 (남성/여성): \")\n",
    "\n",
    "    return Person(name, age, gender)\n",
    "\n",
    "# 사람 객체를 생성하고 정보를 출력\n",
    "if __name__ == \"__main__\":\n",
    "    person_list = []\n",
    "\n",
    "    # 몇 명의 사람 정보를 입력할지 결정\n",
    "    number_of_people = int(input(\"몇 명의 사람 정보를 입력하시겠습니까? \"))\n",
    "\n",
    "    for _ in range(number_of_people):\n",
    "        person = create_person()\n",
    "        person_list.append(person)  # 리스트에 추가\n",
    "\n",
    "    # 모든 사람의 정보를 출력\n",
    "    print(\"\\n입력한 사람들의 정보:\")\n",
    "    for person in person_list:\n",
    "        print(\"\\n--- 정보 ---\")\n",
    "        person.display_info()\n"
   ]
  },
  {
   "cell_type": "code",
   "execution_count": null,
   "id": "df99d034-f159-404e-b829-42b6584408f9",
   "metadata": {},
   "outputs": [],
   "source": []
  }
 ],
 "metadata": {
  "kernelspec": {
   "display_name": "Python 3 (ipykernel)",
   "language": "python",
   "name": "python3"
  },
  "language_info": {
   "codemirror_mode": {
    "name": "ipython",
    "version": 3
   },
   "file_extension": ".py",
   "mimetype": "text/x-python",
   "name": "python",
   "nbconvert_exporter": "python",
   "pygments_lexer": "ipython3",
   "version": "3.12.4"
  }
 },
 "nbformat": 4,
 "nbformat_minor": 5
}
