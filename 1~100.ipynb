{
 "cells": [
  {
   "cell_type": "code",
   "execution_count": 1,
   "id": "fcd0ed7c-0fab-49a5-a165-150b2b2d6dbd",
   "metadata": {},
   "outputs": [
    {
     "name": "stdout",
     "output_type": "stream",
     "text": [
      "숫자 맞추기 게임에 오신 것을 환영합니다!\n",
      "1에서 100 사이의 숫자를 맞춰보세요.\n",
      "너무 낮습니다! 다시 시도해보세요.\n",
      "너무 높습니다! 다시 시도해보세요.\n",
      "너무 높습니다! 다시 시도해보세요.\n",
      "너무 높습니다! 다시 시도해보세요.\n",
      "너무 높습니다! 다시 시도해보세요.\n",
      "너무 높습니다! 다시 시도해보세요.\n",
      "너무 높습니다! 다시 시도해보세요.\n",
      "너무 낮습니다! 다시 시도해보세요.\n",
      "너무 높습니다! 다시 시도해보세요.\n",
      "너무 낮습니다! 다시 시도해보세요.\n",
      "너무 낮습니다! 다시 시도해보세요.\n",
      "너무 낮습니다! 다시 시도해보세요.\n",
      "축하합니다! 숫자를 맞추셨습니다: 38 (시도 횟수: 13)\n",
      "게임을 종료합니다. 감사합니다!\n"
     ]
    }
   ],
   "source": [
    "import random\n",
    "\n",
    "def play_game():\n",
    "    # 게임 범위 설정\n",
    "    lower_bound = 1\n",
    "    upper_bound = 100\n",
    "    secret_number = random.randint(lower_bound, upper_bound)\n",
    "    attempts = 0\n",
    "\n",
    "    print(f\"숫자 맞추기 게임에 오신 것을 환영합니다!\")\n",
    "    print(f\"{lower_bound}에서 {upper_bound} 사이의 숫자를 맞춰보세요.\")\n",
    "\n",
    "    while True:\n",
    "        try:\n",
    "            guess = int(input(\"당신의 숫자를 입력하세요: \"))\n",
    "            attempts += 1\n",
    "\n",
    "            # 유효성 검사\n",
    "            if guess < lower_bound or guess > upper_bound:\n",
    "                print(f\"입력한 숫자가 범위를 벗어났습니다! {lower_bound}에서 {upper_bound} 사이의 숫자를 입력해주세요.\")\n",
    "                continue\n",
    "            \n",
    "            # 정답 확인\n",
    "            if guess < secret_number:\n",
    "                print(\"너무 낮습니다! 다시 시도해보세요.\")\n",
    "            elif guess > secret_number:\n",
    "                print(\"너무 높습니다! 다시 시도해보세요.\")\n",
    "            else:\n",
    "                print(f\"축하합니다! 숫자를 맞추셨습니다: {secret_number} (시도 횟수: {attempts})\")\n",
    "                break\n",
    "\n",
    "        except ValueError:\n",
    "            print(\"유효한 숫자를 입력해주세요.\")\n",
    "\n",
    "def main():\n",
    "    while True:\n",
    "        play_game()\n",
    "        play_again = input(\"게임을 다시 시작하시겠습니까? (y/n): \").lower()\n",
    "        if play_again != 'y':\n",
    "            print(\"게임을 종료합니다. 감사합니다!\")\n",
    "            break\n",
    "\n",
    "if __name__ == \"__main__\":\n",
    "    main()\n"
   ]
  }
 ],
 "metadata": {
  "kernelspec": {
   "display_name": "Python 3",
   "language": "python",
   "name": "python3"
  },
  "language_info": {
   "codemirror_mode": {
    "name": "ipython",
    "version": 3
   },
   "file_extension": ".py",
   "mimetype": "text/x-python",
   "name": "python",
   "nbconvert_exporter": "python",
   "pygments_lexer": "ipython3",
   "version": "3.12.6"
  }
 },
 "nbformat": 4,
 "nbformat_minor": 5
}
